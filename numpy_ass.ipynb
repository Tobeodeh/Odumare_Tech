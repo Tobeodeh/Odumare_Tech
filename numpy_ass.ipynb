{
 "cells": [
  {
   "cell_type": "code",
   "execution_count": 1,
   "metadata": {},
   "outputs": [],
   "source": [
    "import numpy as np"
   ]
  },
  {
   "cell_type": "markdown",
   "metadata": {},
   "source": [
    "Task 1: Creating and Manipulating Arrays"
   ]
  },
  {
   "cell_type": "code",
   "execution_count": 3,
   "metadata": {},
   "outputs": [
    {
     "name": "stdout",
     "output_type": "stream",
     "text": [
      "1D Arry is: [0 1 2 3 4 5 6 7 8 9]\n"
     ]
    }
   ],
   "source": [
    "#creaing a 1 dimensional array\n",
    "arr_1D = np.array([0,1,2,3,4,5,6,7,8,9]) \n",
    "print(f'1D Arry is: {arr_1D}')\n"
   ]
  },
  {
   "cell_type": "code",
   "execution_count": 8,
   "metadata": {},
   "outputs": [
    {
     "name": "stdout",
     "output_type": "stream",
     "text": [
      "2D Arry is: [[ 0  1  2  3]\n",
      " [ 5  6  7  8]\n",
      " [ 9 10 11 12]]\n"
     ]
    }
   ],
   "source": [
    "#creating a 2 dimensional array WITH 3 rows and 4 columns\n",
    "arr_2D = np.array([[0,1,2,3],[5,6,7,8],[9,10,11,12]])\n",
    "print(f'2D Arry is: {arr_2D}')"
   ]
  },
  {
   "cell_type": "code",
   "execution_count": 7,
   "metadata": {},
   "outputs": [
    {
     "name": "stdout",
     "output_type": "stream",
     "text": [
      "The reshaped array is: [[ 0  1  2]\n",
      " [ 3  5  6]\n",
      " [ 7  8  9]\n",
      " [10 11 12]]\n"
     ]
    }
   ],
   "source": [
    "#reshaping a 3 by 4 array to 4 by 3\n",
    "arr_2D_reshape = arr_2D.reshape(4, 3)\n",
    "print(f'The reshaped array is: {arr_2D_reshape}')"
   ]
  },
  {
   "cell_type": "code",
   "execution_count": 11,
   "metadata": {},
   "outputs": [
    {
     "name": "stdout",
     "output_type": "stream",
     "text": [
      "The first five element of the 1d array is: [0 1 2 3 4]\n"
     ]
    }
   ],
   "source": [
    "#slicing array\n",
    "print(f'The first five element of the 1d array is: {arr_1D[:5]}')"
   ]
  },
  {
   "cell_type": "code",
   "execution_count": 14,
   "metadata": {},
   "outputs": [
    {
     "name": "stdout",
     "output_type": "stream",
     "text": [
      "Zeros array: [[0. 0. 0.]\n",
      " [0. 0. 0.]]\n",
      "Ones array is: [[1. 1.]\n",
      " [1. 1.]\n",
      " [1. 1.]]\n"
     ]
    }
   ],
   "source": [
    "#creating array with numpy functions\n",
    "zero_array = np.zeros([2,3])\n",
    "print(f'Zeros array: {zero_array}')\n",
    "one_array = np.ones([3,2])\n",
    "print(f'Ones array is: {one_array}')\n"
   ]
  },
  {
   "cell_type": "markdown",
   "metadata": {},
   "source": [
    "Task 2: Array Operations"
   ]
  },
  {
   "cell_type": "code",
   "execution_count": 21,
   "metadata": {},
   "outputs": [
    {
     "name": "stdout",
     "output_type": "stream",
     "text": [
      "Addition: [[ 0  3  6  9]\n",
      " [13 16 19 22]\n",
      " [25 28 31 34]]\n",
      "Subtraction: [[  0  -1  -2  -3]\n",
      " [ -3  -4  -5  -6]\n",
      " [ -7  -8  -9 -10]]\n",
      "Multiplication: [[  0   2   8  18]\n",
      " [ 40  60  84 112]\n",
      " [144 180 220 264]]\n",
      "Division: [[       nan 2.         2.         2.        ]\n",
      " [1.6        1.66666667 1.71428571 1.75      ]\n",
      " [1.77777778 1.8        1.81818182 1.83333333]]\n"
     ]
    },
    {
     "name": "stderr",
     "output_type": "stream",
     "text": [
      "C:\\Users\\Tobechukwu Odeh\\AppData\\Local\\Temp\\ipykernel_11316\\4199419655.py:12: RuntimeWarning: invalid value encountered in divide\n",
      "  array_div = np.divide(x1,arr_2D)\n"
     ]
    }
   ],
   "source": [
    "x1 = np.arange(0,24, 2).reshape(3,4)\n",
    "#Addition\n",
    "array_add = np.add(arr_2D, x1)\n",
    "print(f'Addition: {array_add}')\n",
    "#Subtraction\n",
    "array_sub = np.subtract(arr_2D, x1)\n",
    "print(f'Subtraction: {array_sub}')\n",
    "#Multiplication\n",
    "array_mult = np.multiply(arr_2D, x1)\n",
    "print(f'Multiplication: {array_mult}')\n",
    "#Division\n",
    "array_div = np.divide(x1,arr_2D)\n",
    "print(f'Division: {array_div}')"
   ]
  },
  {
   "cell_type": "code",
   "execution_count": 26,
   "metadata": {},
   "outputs": [
    {
     "data": {
      "text/plain": [
       "array([[0., 0., 0., 0.],\n",
       "       [0., 0., 0., 0.]])"
      ]
     },
     "execution_count": 26,
     "metadata": {},
     "output_type": "execute_result"
    }
   ],
   "source": [
    "#computing dot product\n",
    "np.dot(zero_array, arr_2D)"
   ]
  },
  {
   "cell_type": "code",
   "execution_count": 30,
   "metadata": {},
   "outputs": [
    {
     "data": {
      "text/plain": [
       "array([[1., 0., 0.],\n",
       "       [0., 1., 0.],\n",
       "       [0., 0., 1.]])"
      ]
     },
     "execution_count": 30,
     "metadata": {},
     "output_type": "execute_result"
    }
   ],
   "source": [
    "#creating a 3 by 3 identity matrix\n",
    "np.identity(3)"
   ]
  },
  {
   "cell_type": "code",
   "execution_count": 28,
   "metadata": {},
   "outputs": [
    {
     "name": "stdout",
     "output_type": "stream",
     "text": [
      "the sum of the 1d array is: 45\n",
      "The mean value of the 1d array is: 4.5\n",
      "the standard deviation of the 1d array is: 2.8722813232690143\n",
      "the variance of the 1d array is: 8.25\n"
     ]
    }
   ],
   "source": [
    "print(f'the sum of the 1d array is: {np.sum(arr_1D)}')\n",
    "print(f'The mean value of the 1d array is: {np.mean(arr_1D)}')\n",
    "print(f'the standard deviation of the 1d array is: {np.std(arr_1D)}')\n",
    "print(f'the variance of the 1d array is: {np.var(arr_1D)}')"
   ]
  },
  {
   "cell_type": "markdown",
   "metadata": {},
   "source": [
    "Task 3: Boolean Indexing and Filtering"
   ]
  },
  {
   "cell_type": "code",
   "execution_count": 34,
   "metadata": {},
   "outputs": [
    {
     "name": "stdout",
     "output_type": "stream",
     "text": [
      "[ 3 32  8  0 14 18 13 44 20 36 45 26 15 28  8]\n"
     ]
    }
   ],
   "source": [
    "#generating a 15 element 1 digit array\n",
    "arr_1d_15 = np.random.randint(0,50, size = 15)\n",
    "print(arr_1d_15)"
   ]
  },
  {
   "cell_type": "code",
   "execution_count": 36,
   "metadata": {},
   "outputs": [
    {
     "name": "stdout",
     "output_type": "stream",
     "text": [
      "[32 44 36 45 26 28]\n"
     ]
    }
   ],
   "source": [
    "arr_greater_25 = arr_1d_15[arr_1d_15 > 25]\n",
    "print(arr_greater_25)"
   ]
  },
  {
   "cell_type": "code",
   "execution_count": 40,
   "metadata": {},
   "outputs": [
    {
     "name": "stdout",
     "output_type": "stream",
     "text": [
      "[10 32 10 10 14 18 13 44 20 36 45 26 15 28 10]\n"
     ]
    }
   ],
   "source": [
    "arr_1d_15[arr_1d_15 < 10] =10\n",
    "print(arr_1d_15)"
   ]
  },
  {
   "cell_type": "markdown",
   "metadata": {},
   "source": [
    "Task 4: Advanced Operations"
   ]
  },
  {
   "cell_type": "code",
   "execution_count": 41,
   "metadata": {},
   "outputs": [
    {
     "name": "stdout",
     "output_type": "stream",
     "text": [
      "[[35 39  4 21 10]\n",
      " [ 0 44 26 23 16]\n",
      " [38 45 39 49 28]\n",
      " [33 27 17 26  1]\n",
      " [42  0 21 14 27]]\n"
     ]
    }
   ],
   "source": [
    "#creating a 5 by 5 array\n",
    "arr_25 = np.random.randint(0,50, size = 25).reshape(5,5)\n",
    "print(arr_25)"
   ]
  },
  {
   "cell_type": "code",
   "execution_count": 42,
   "metadata": {},
   "outputs": [
    {
     "name": "stdout",
     "output_type": "stream",
     "text": [
      "Row wise sum is: [109 109 199 104 104]\n",
      "Column wise sum is: [148 155 107 133  82]\n"
     ]
    }
   ],
   "source": [
    "row_sum = np.sum(arr_25, axis = 1)\n",
    "print(f'Row wise sum is: {row_sum}')\n",
    "column_sum = np.sum(arr_25, axis = 0)\n",
    "print(f'Column wise sum is: {column_sum}')"
   ]
  },
  {
   "cell_type": "code",
   "execution_count": 48,
   "metadata": {},
   "outputs": [
    {
     "name": "stdout",
     "output_type": "stream",
     "text": [
      "The horizontal stacking is: [[ 0  1  2  3  0  2  4  6]\n",
      " [ 5  6  7  8  8 10 12 14]\n",
      " [ 9 10 11 12 16 18 20 22]]\n",
      "The vertical stacking is: [[ 1.  1.  0.  2.  4.  6.]\n",
      " [ 1.  1.  8. 10. 12. 14.]\n",
      " [ 1.  1. 16. 18. 20. 22.]]\n"
     ]
    }
   ],
   "source": [
    "#stacking\n",
    "H_stack = np.hstack((arr_2D,x1))\n",
    "print(f'The horizontal stacking is: {H_stack}')\n",
    "V_stack = np.hstack((one_array, x1))\n",
    "print(f'The vertical stacking is: {V_stack}')"
   ]
  }
 ],
 "metadata": {
  "kernelspec": {
   "display_name": "Python 3",
   "language": "python",
   "name": "python3"
  },
  "language_info": {
   "codemirror_mode": {
    "name": "ipython",
    "version": 3
   },
   "file_extension": ".py",
   "mimetype": "text/x-python",
   "name": "python",
   "nbconvert_exporter": "python",
   "pygments_lexer": "ipython3",
   "version": "3.11.2"
  }
 },
 "nbformat": 4,
 "nbformat_minor": 2
}
