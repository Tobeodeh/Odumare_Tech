{
 "cells": [
  {
   "cell_type": "markdown",
   "metadata": {},
   "source": [
    "Multiplication Table"
   ]
  },
  {
   "cell_type": "code",
   "execution_count": 7,
   "metadata": {},
   "outputs": [
    {
     "name": "stdout",
     "output_type": "stream",
     "text": [
      "0 x 4 = 0\n",
      "1 x 4 = 4\n",
      "2 x 4 = 8\n",
      "3 x 4 = 12\n",
      "4 x 4 = 16\n",
      "5 x 4 = 20\n",
      "6 x 4 = 24\n",
      "7 x 4 = 28\n",
      "8 x 4 = 32\n",
      "9 x 4 = 36\n",
      "10 x 4 = 40\n",
      "11 x 4 = 44\n",
      "12 x 4 = 48\n"
     ]
    }
   ],
   "source": [
    "while True:\n",
    "    '''This code snippet uses the while true loop to create an infinite loop which breaks with the letter \"n\"\n",
    "    The code accepts the multiplicand fro the user and uses a for loop to find the multiplication values of the range of 12'''\n",
    "    Multiplicand = int(input(\"Enter the multiplicand\"))\n",
    "    for j in range(0,13):\n",
    "        print(f'{j} x {Multiplicand} = {Multiplicand * j}')\n",
    "    exit_statement = input('Do you wish to continue? ')\n",
    "    if(exit_statement == 'n' or 'no'):\n",
    "        break"
   ]
  },
  {
   "cell_type": "code",
   "execution_count": 6,
   "metadata": {},
   "outputs": [
    {
     "name": "stdout",
     "output_type": "stream",
     "text": [
      "0 x 1 = 0\n",
      "1 x 1 = 1\n",
      "2 x 1 = 2\n",
      "3 x 1 = 3\n",
      "4 x 1 = 4\n",
      "5 x 1 = 5\n",
      "6 x 1 = 6\n",
      "7 x 1 = 7\n",
      "8 x 1 = 8\n",
      "9 x 1 = 9\n",
      "10 x 1 = 10\n",
      "11 x 1 = 11\n",
      "12 x 1 = 12\n",
      "0 x 2 = 0\n",
      "1 x 2 = 1\n",
      "2 x 2 = 2\n",
      "3 x 2 = 3\n",
      "4 x 2 = 4\n",
      "5 x 2 = 5\n",
      "6 x 2 = 6\n",
      "7 x 2 = 7\n",
      "8 x 2 = 8\n",
      "9 x 2 = 9\n",
      "10 x 2 = 10\n",
      "11 x 2 = 11\n",
      "12 x 2 = 12\n",
      "0 x 3 = 0\n",
      "1 x 3 = 1\n",
      "2 x 3 = 2\n",
      "3 x 3 = 3\n",
      "4 x 3 = 4\n",
      "5 x 3 = 5\n",
      "6 x 3 = 6\n",
      "7 x 3 = 7\n",
      "8 x 3 = 8\n",
      "9 x 3 = 9\n",
      "10 x 3 = 10\n",
      "11 x 3 = 11\n",
      "12 x 3 = 12\n",
      "0 x 4 = 0\n",
      "1 x 4 = 1\n",
      "2 x 4 = 2\n",
      "3 x 4 = 3\n",
      "4 x 4 = 4\n",
      "5 x 4 = 5\n",
      "6 x 4 = 6\n",
      "7 x 4 = 7\n",
      "8 x 4 = 8\n",
      "9 x 4 = 9\n",
      "10 x 4 = 10\n",
      "11 x 4 = 11\n",
      "12 x 4 = 12\n"
     ]
    }
   ],
   "source": [
    "while True:\n",
    "    '''This code snippet uses the while true loop to create an infinite loop which breaks with the letter \"n\"\n",
    "    The code accepts the multiplicand range from the user and uses a for loop to find the multiplication values of the range of 12'''\n",
    "    Multiplicand_range = int(input('Enter the range for the multiplication table: '))\n",
    "    for i in range(1,Multiplicand_range):\n",
    "        for j in range(0,13):\n",
    "            print(f'{j} x {i} = {j * 1}')\n",
    "    exit_value =input('Would you wish to continue:') \n",
    "    if (exit_value == 'n' or 'no'):\n",
    "        break       "
   ]
  }
 ],
 "metadata": {
  "kernelspec": {
   "display_name": "Python 3",
   "language": "python",
   "name": "python3"
  },
  "language_info": {
   "codemirror_mode": {
    "name": "ipython",
    "version": 3
   },
   "file_extension": ".py",
   "mimetype": "text/x-python",
   "name": "python",
   "nbconvert_exporter": "python",
   "pygments_lexer": "ipython3",
   "version": "3.10.9"
  }
 },
 "nbformat": 4,
 "nbformat_minor": 2
}
